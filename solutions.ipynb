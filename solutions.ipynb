{
 "cells": [
  {
   "cell_type": "markdown",
   "metadata": {},
   "source": [
    "#### Imprime en consola Hello World."
   ]
  },
  {
   "cell_type": "markdown",
   "metadata": {},
   "source": [
    "Your solution here:\n",
    "echo \"Hello World\""
   ]
  },
  {
   "cell_type": "markdown",
   "metadata": {},
   "source": [
    "#### Crea un directorio nuevo llamado new_dir."
   ]
  },
  {
   "cell_type": "markdown",
   "metadata": {},
   "source": [
    "Your solution here:\n",
    "$ mkdir new_dir"
   ]
  },
  {
   "cell_type": "markdown",
   "metadata": {},
   "source": [
    "#### Elimina ese directorio."
   ]
  },
  {
   "cell_type": "markdown",
   "metadata": {},
   "source": [
    "Your solution here:\n",
    "$ rm -r new_dir"
   ]
  },
  {
   "cell_type": "markdown",
   "metadata": {},
   "source": [
    "**Copia el archivo `sed.txt` dentro de la carpeta lorem a la carpeta lorem-copy. \n",
    "TIP: Puede ser necesario crear la carpeta lorem-copy primero. \n",
    "$ cp lorem/sed.txt lorem-copy\n"
   ]
  },
  {
   "cell_type": "markdown",
   "metadata": {},
   "source": [
    "**Copia los otros dos archivos de la carpeta lorem a la carpeta lorem-copy en una sola línea. \n",
    "$ cp lorem/at.txt lorem/lorem.txt lorem-copy"
   ]
  },
  {
   "cell_type": "markdown",
   "metadata": {},
   "source": [
    "**Muestra el contenido del archivo `sed.txt` dentro de la carpeta lorem. \n",
    "$ cat sed.txt\n"
   ]
  },
  {
   "cell_type": "markdown",
   "metadata": {},
   "source": [
    "**Muestra el contenido de los archivos `at.txt` y `lorem.txt` dentro de la carpeta lorem. \n",
    "$ cat at.txt lorem.txt"
   ]
  },
  {
   "cell_type": "markdown",
   "metadata": {},
   "source": [
    "**Visualiza las primeras 3 líneas del archivo `sed.txt` dentro de la carpeta lorem-copy \n",
    "$ head -n 3 sed.txt"
   ]
  },
  {
   "cell_type": "markdown",
   "metadata": {},
   "source": [
    "**Visualiza las ultimas 3 líneas del archivo `sed.txt` dentro de la carpeta lorem-copy \n",
    "$ tail -n 3 sed.txt\n"
   ]
  },
  {
   "cell_type": "markdown",
   "metadata": {},
   "source": [
    "**Añade `Homo homini lupus.` al final de archivo `sed.txt` dentro de la carpeta lorem-copy. \n",
    "$ echo “Homo homini lupus” >> sed.txt"
   ]
  },
  {
   "cell_type": "markdown",
   "metadata": {},
   "source": [
    "**Visualiza las últimas 3 líneas del archivo `sed.txt` dentro de la carpeta lorem-copy.\n",
    "Deberías ver ahora `Homo homini lupus.`. \n",
    "$ tail -n 3 sed.txt"
   ]
  },
  {
   "cell_type": "markdown",
   "metadata": {},
   "source": [
    "**Sustituye todas las apariciones de `et` por `ET` del archivo `at.txt` dentro de la carpeta lorem-copy. \n",
    "Deberás usar `sed`\n",
    "$ sed ‘s/et/ET/g’ at.txt"
   ]
  },
  {
   "cell_type": "markdown",
   "metadata": {},
   "source": [
    "**Encuentra al usuario activo en el sistema.\n",
    "$ git config user.name\n",
    "Marina Diez\n"
   ]
  },
  {
   "cell_type": "markdown",
   "metadata": {},
   "source": [
    "**Encuentra dónde estás en tu sistema de ficheros.\n",
    "$ pwd\n",
    "/c/Users/mdiez\n"
   ]
  },
  {
   "cell_type": "markdown",
   "metadata": {},
   "source": [
    "**Lista los archivos que terminan por `.txt` en la carpeta lorem.\n",
    "$ find lorem \".txt\""
   ]
  },
  {
   "cell_type": "markdown",
   "metadata": {},
   "source": [
    "**Cuenta el número de líneas que tiene el archivo `sed.txt` dentro de la carpeta lorem. \n",
    "$ cat sed.txt | wc -l\n",
    "\n"
   ]
  },
  {
   "cell_type": "markdown",
   "metadata": {},
   "source": [
    "**Cuenta el número de **archivos** que empiezan por `lorem` que están en este directorio y en directorios internos.\n",
    " wc lorem*.txt\n",
    "\n",
    "No consigo solución...\n",
    "\n",
    "$ ls lorem*"
   ]
  },
  {
   "cell_type": "markdown",
   "metadata": {},
   "source": [
    "**Encuentra todas las apariciones de `et` en `at.txt` dentro de la carpeta lorem.\n",
    "$ grep et at.txt\n"
   ]
  },
  {
   "cell_type": "markdown",
   "metadata": {},
   "source": [
    "**Cuenta el número de apariciones del string `et` en `at.txt` dentro de la carpeta lorem. \n",
    " grep et at.txt | wc\n",
    " 7      86     612"
   ]
  },
  {
   "cell_type": "markdown",
   "metadata": {},
   "source": [
    "**Cuenta el número de apariciones del string `et` en todos los archivos del directorio lorem-copy.\n",
    "$ grep et at.txt sed.txt lorem.txt | wc\n",
    "      8     105     797\n"
   ]
  },
  {
   "cell_type": "markdown",
   "metadata": {},
   "source": [
    "**E incluimos el contenido que queramos. En este caso listar ficheros:\n",
    "$ echo \"listar ficheros\" >> list_files.sh\n"
   ]
  },
  {
   "cell_type": "markdown",
   "metadata": {},
   "source": [
    "**Almacena en una variable `name` tu nombre.\n",
    "$ name=Marina\n"
   ]
  },
  {
   "cell_type": "markdown",
   "metadata": {},
   "source": [
    "**Imprime esa variable.\n",
    "$ echo $name\n",
    "Marina\n"
   ]
  },
  {
   "cell_type": "markdown",
   "metadata": {},
   "source": [
    "**Crea un directorio nuevo que se llame como el contenido de la variable `name`\n",
    "mdiez@LAPTOP-6I5P20L0 MINGW64 ~/lab-bash (master)\n",
    "$ mkdir $name\n",
    "\n",
    "mdiez@LAPTOP-6I5P20L0 MINGW64 ~/lab-bash (master)\n",
    "$ ls\n",
    "Marina/  README.md  list_files.sh  lorem/  lorem-copy/  name/  solutions.ipynb\n",
    "\n"
   ]
  },
  {
   "cell_type": "markdown",
   "metadata": {},
   "source": [
    "**Elimina ese directorio. \n",
    "$ rm -r $name\n"
   ]
  },
  {
   "cell_type": "markdown",
   "metadata": {},
   "source": [
    "**Muestra los procesos de forma jerárquica que se están ejecutando en tu ordenador:\n",
    "$ ps\n",
    "      PID    PPID    PGID     WINPID   TTY         UID    STIME COMMAND\n",
    "      870       1     870      15432  ?         197609 21:39:37 /usr/bin/mintty\n",
    "      871     870     871      19916  pty0      197609 21:39:37 /usr/bin/bash\n",
    "      922     871     922      15788  pty0      197609 21:44:45 /usr/bin/ps\n"
   ]
  },
  {
   "cell_type": "markdown",
   "metadata": {},
   "source": [
    "**Crea 3 alias y haz que estén disponibles cada vez que inicias sesión\n"
   ]
  },
  {
   "cell_type": "markdown",
   "metadata": {},
   "source": [
    "**Comprime las carpetas lorem y lorem-copy en un archivo llamado lorem-compressed.tar.gz\n",
    "$ tar cfz lorem-compressed.tar.gz lorem lorem-copy\n"
   ]
  },
  {
   "cell_type": "markdown",
   "metadata": {},
   "source": [
    "**descomprime el archivo lorem-compressed.tar.gz en la carpeta lorem-uncompressed\n",
    "$ tar xzf lorem-compressed.tar.gz\n"
   ]
  },
  {
   "cell_type": "markdown",
   "metadata": {},
   "source": [
    "**Crea un script bash para imprimir los numeros de 1 a 100"
   ]
  }
 ],
 "metadata": {
  "kernelspec": {
   "display_name": "Python 3",
   "language": "python",
   "name": "python3"
  },
  "language_info": {
   "codemirror_mode": {
    "name": "ipython",
    "version": 3
   },
   "file_extension": ".py",
   "mimetype": "text/x-python",
   "name": "python",
   "nbconvert_exporter": "python",
   "pygments_lexer": "ipython3",
   "version": "3.8.5"
  }
 },
 "nbformat": 4,
 "nbformat_minor": 4
}
