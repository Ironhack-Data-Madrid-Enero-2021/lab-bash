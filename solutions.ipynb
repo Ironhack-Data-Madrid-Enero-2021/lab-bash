{
 "cells": [
  {
   "cell_type": "markdown",
   "metadata": {},
   "source": [
    "#### 1. Imprime en consola Hello World."
   ]
  },
  {
   "cell_type": "markdown",
   "metadata": {},
   "source": [
    "Your solution here:\n",
    "\n",
    "echo \"Hello World\""
   ]
  },
  {
   "cell_type": "markdown",
   "metadata": {},
   "source": [
    "#### 2. Crea un directorio nuevo llamado new_dir."
   ]
  },
  {
   "cell_type": "markdown",
   "metadata": {},
   "source": [
    "Your solution here:\n",
    "\n",
    "mkdir \"new_dir\""
   ]
  },
  {
   "cell_type": "markdown",
   "metadata": {},
   "source": [
    "#### 3. Elimina ese directorio."
   ]
  },
  {
   "cell_type": "markdown",
   "metadata": {},
   "source": [
    "Your solution here:\n",
    "\n",
    "rm -r \"new_dir\""
   ]
  },
  {
   "cell_type": "markdown",
   "metadata": {},
   "source": [
    "#### 4. Copia el archivo sed.txt dentro de la carpeta lorem a la carpeta lorem-copy. TIP: Puede ser necesario crear la carpeta lorem-copy primero."
   ]
  },
  {
   "cell_type": "code",
   "execution_count": 1,
   "metadata": {},
   "outputs": [
    {
     "ename": "SyntaxError",
     "evalue": "invalid syntax (<ipython-input-1-0f3f36940255>, line 1)",
     "output_type": "error",
     "traceback": [
      "\u001b[0;36m  File \u001b[0;32m\"<ipython-input-1-0f3f36940255>\"\u001b[0;36m, line \u001b[0;32m1\u001b[0m\n\u001b[0;31m    mkdir lorem-copy\u001b[0m\n\u001b[0m          ^\u001b[0m\n\u001b[0;31mSyntaxError\u001b[0m\u001b[0;31m:\u001b[0m invalid syntax\n"
     ]
    }
   ],
   "source": [
    "mkdir lorem-copy\n",
    "cp lorem/sed.txt lorem-copy "
   ]
  },
  {
   "cell_type": "markdown",
   "metadata": {},
   "source": [
    "#### 5.Muestra el contenido del archivo sed.txt dentro de la carpeta lorem."
   ]
  },
  {
   "cell_type": "code",
   "execution_count": 2,
   "metadata": {},
   "outputs": [
    {
     "name": "stdout",
     "output_type": "stream",
     "text": [
      "Sed ut perspiciatis unde omnis iste natus error sit voluptatem accusantium doloremque laudantium, \r\n",
      "totam rem aperiam, eaque ipsa quae ab illo inventore veritatis et quasi architecto beatae vitae dicta sunt explicabo. \r\n",
      "Nemo enim ipsam voluptatem quia voluptas sit aspernatur aut odit aut fugit, \r\n",
      "sed quia consequuntur magni dolores eos qui ratione voluptatem sequi nesciunt. \r\n",
      "Neque porro quisquam est, qui dolorem ipsum quia dolor sit amet, consectetur, adipisci velit, \r\n",
      "sed quia non numquam eius modi tempora incidunt ut labore et dolore magnam aliquam quaerat voluptatem. \r\n",
      "Ut enim ad minima veniam, quis nostrum exercitationem ullam corporis suscipit laboriosam, \r\n",
      "nisi ut aliquid ex ea commodi consequatur? Quis autem vel eum iure reprehenderit qui in ea voluptate velit esse quam nihil molestiae consequatur, \r\n",
      "vel illum qui dolorem eum fugiat quo voluptas nulla pariatur?cat: lorem-copy: Is a directory\r\n"
     ]
    }
   ],
   "source": [
    "cat lorem/sed.txt lorem-copy"
   ]
  },
  {
   "cell_type": "markdown",
   "metadata": {},
   "source": [
    "#### 6. Muestra el contenido de los archivos at.txt y lorem.txt dentro de la carpeta lorem."
   ]
  },
  {
   "cell_type": "code",
   "execution_count": 6,
   "metadata": {},
   "outputs": [
    {
     "name": "stdout",
     "output_type": "stream",
     "text": [
      "At vero eos et accusamus et iusto odio dignissimos ducimus qui blanditiis praesentium voluptatum \r\n",
      "deleniti atque corrupti quos dolores et quas molestias excepturi sint occaecati cupiditate non \r\n",
      "provident, similique sunt in culpa qui officia deserunt mollitia animi, id est laborum et dolorum fuga. \r\n",
      "Et harum quidem rerum facilis est et expedita distinctio. \r\n",
      "Nam libero tempore, cum soluta nobis est eligendi optio cumque nihil impedit quo minus id quod \r\n",
      "maxime placeat facere possimus, omnis voluptas assumenda est, omnis dolor repellendus. \r\n",
      "Temporibus autem quibusdam et aut officiis debitis aut rerum necessitatibus saepe eveniet \r\n",
      "ut et voluptates repudiandae sint et molestiae non recusandae. \r\n",
      "Itaque earum rerum hic tenetur a sapiente delectus, ut aut reiciendis voluptatibus maiores \r\n",
      "alias consequatur aut perferendis doloribus asperiores repellatLorem ipsum dolor sit amet, consectetur adipiscing elit, sed do eiusmod tempor incididunt ut labore et dolore magna aliqua. \r\n",
      "Ut enim ad minim veniam, quis nostrud exercitation ullamco laboris nisi ut aliquip ex ea commodo consequat. \r\n",
      "Duis aute irure dolor in reprehenderit in voluptate velit esse cillum dolore eu fugiat nulla pariatur. \r\n",
      "Excepteur sint occaecat cupidatat non proident, sunt in culpa qui officia deserunt mollit anim id est laborum.cat: lorem-copy: Is a directory\r\n"
     ]
    }
   ],
   "source": [
    "cat lorem/at.txt lorem/lorem.txt lorem-copy  \n"
   ]
  },
  {
   "cell_type": "markdown",
   "metadata": {},
   "source": [
    "#### 7. Visualiza las primeras 3 líneas del archivo sed.txt dentro de la carpeta lorem-copy"
   ]
  },
  {
   "cell_type": "code",
   "execution_count": 7,
   "metadata": {},
   "outputs": [
    {
     "ename": "SyntaxError",
     "evalue": "invalid syntax (<ipython-input-7-034f399405cb>, line 1)",
     "output_type": "error",
     "traceback": [
      "\u001b[0;36m  File \u001b[0;32m\"<ipython-input-7-034f399405cb>\"\u001b[0;36m, line \u001b[0;32m1\u001b[0m\n\u001b[0;31m    head -n 3 sed.txt\u001b[0m\n\u001b[0m            ^\u001b[0m\n\u001b[0;31mSyntaxError\u001b[0m\u001b[0;31m:\u001b[0m invalid syntax\n"
     ]
    }
   ],
   "source": [
    "head -n 3 sed.txt"
   ]
  },
  {
   "cell_type": "markdown",
   "metadata": {},
   "source": [
    "#### 8. Visualiza las ultimas 3 líneas del archivo sed.txt dentro de la carpeta lorem-copy"
   ]
  },
  {
   "cell_type": "code",
   "execution_count": 8,
   "metadata": {},
   "outputs": [
    {
     "ename": "SyntaxError",
     "evalue": "invalid syntax (<ipython-input-8-98a9ad11186f>, line 1)",
     "output_type": "error",
     "traceback": [
      "\u001b[0;36m  File \u001b[0;32m\"<ipython-input-8-98a9ad11186f>\"\u001b[0;36m, line \u001b[0;32m1\u001b[0m\n\u001b[0;31m    tail -n 3 sed.txt\u001b[0m\n\u001b[0m            ^\u001b[0m\n\u001b[0;31mSyntaxError\u001b[0m\u001b[0;31m:\u001b[0m invalid syntax\n"
     ]
    }
   ],
   "source": [
    "tail -n 3 sed.txt"
   ]
  },
  {
   "cell_type": "markdown",
   "metadata": {},
   "source": [
    "#### 9.  Añade Homo homini lupus. al final de archivo sed.txt dentro de la carpeta lorem-copy."
   ]
  },
  {
   "cell_type": "code",
   "execution_count": 11,
   "metadata": {},
   "outputs": [
    {
     "ename": "SyntaxError",
     "evalue": "invalid syntax (<ipython-input-11-50012c67d898>, line 1)",
     "output_type": "error",
     "traceback": [
      "\u001b[0;36m  File \u001b[0;32m\"<ipython-input-11-50012c67d898>\"\u001b[0;36m, line \u001b[0;32m1\u001b[0m\n\u001b[0;31m    echo \"Homo homini lupus\" >> sed.txt\u001b[0m\n\u001b[0m         ^\u001b[0m\n\u001b[0;31mSyntaxError\u001b[0m\u001b[0;31m:\u001b[0m invalid syntax\n"
     ]
    }
   ],
   "source": [
    "echo \"Homo homini lupus\" >> sed.txt"
   ]
  },
  {
   "cell_type": "markdown",
   "metadata": {},
   "source": [
    "#### 10. Visualiza las últimas 3 líneas del archivo sed.txt dentro de la carpeta lorem-copy. Deberías ver ahora Homo homini lupus.."
   ]
  },
  {
   "cell_type": "code",
   "execution_count": 12,
   "metadata": {},
   "outputs": [
    {
     "ename": "SyntaxError",
     "evalue": "invalid syntax (<ipython-input-12-98a9ad11186f>, line 1)",
     "output_type": "error",
     "traceback": [
      "\u001b[0;36m  File \u001b[0;32m\"<ipython-input-12-98a9ad11186f>\"\u001b[0;36m, line \u001b[0;32m1\u001b[0m\n\u001b[0;31m    tail -n 3 sed.txt\u001b[0m\n\u001b[0m            ^\u001b[0m\n\u001b[0;31mSyntaxError\u001b[0m\u001b[0;31m:\u001b[0m invalid syntax\n"
     ]
    }
   ],
   "source": [
    "tail -n 3 sed.txt"
   ]
  },
  {
   "cell_type": "markdown",
   "metadata": {},
   "source": [
    "#### 11.  Sustituye todas las apariciones de et por ET del archivo at.txt dentro de la carpeta lorem-copy. Deberás usar sed."
   ]
  },
  {
   "cell_type": "code",
   "execution_count": 16,
   "metadata": {},
   "outputs": [
    {
     "ename": "SyntaxError",
     "evalue": "invalid syntax (<ipython-input-16-b0ccfc8722c0>, line 1)",
     "output_type": "error",
     "traceback": [
      "\u001b[0;36m  File \u001b[0;32m\"<ipython-input-16-b0ccfc8722c0>\"\u001b[0;36m, line \u001b[0;32m1\u001b[0m\n\u001b[0;31m    sed 's/et/ET/g' at.txt\u001b[0m\n\u001b[0m        ^\u001b[0m\n\u001b[0;31mSyntaxError\u001b[0m\u001b[0;31m:\u001b[0m invalid syntax\n"
     ]
    }
   ],
   "source": [
    "sed 's/et/ET/g' at.txt"
   ]
  },
  {
   "cell_type": "markdown",
   "metadata": {},
   "source": [
    "#### 12. Encuentra al usuario activo en el sistema."
   ]
  },
  {
   "cell_type": "code",
   "execution_count": 17,
   "metadata": {},
   "outputs": [
    {
     "ename": "SyntaxError",
     "evalue": "invalid syntax (<ipython-input-17-9e3ab60aa93d>, line 1)",
     "output_type": "error",
     "traceback": [
      "\u001b[0;36m  File \u001b[0;32m\"<ipython-input-17-9e3ab60aa93d>\"\u001b[0;36m, line \u001b[0;32m1\u001b[0m\n\u001b[0;31m    git config user.name\u001b[0m\n\u001b[0m        ^\u001b[0m\n\u001b[0;31mSyntaxError\u001b[0m\u001b[0;31m:\u001b[0m invalid syntax\n"
     ]
    }
   ],
   "source": [
    "git config user.name"
   ]
  },
  {
   "cell_type": "markdown",
   "metadata": {},
   "source": [
    "#### 13. Encuentra dónde estás en tu sistema de ficheros."
   ]
  },
  {
   "cell_type": "code",
   "execution_count": 18,
   "metadata": {},
   "outputs": [
    {
     "data": {
      "text/plain": [
       "'/Users/angela/Desktop/Ironhack/lab-bash'"
      ]
     },
     "execution_count": 18,
     "metadata": {},
     "output_type": "execute_result"
    }
   ],
   "source": [
    "pwd"
   ]
  },
  {
   "cell_type": "markdown",
   "metadata": {},
   "source": [
    "#### 14. Lista los archivos que terminan por .txt en la carpeta lorem."
   ]
  },
  {
   "cell_type": "code",
   "execution_count": 19,
   "metadata": {},
   "outputs": [
    {
     "ename": "SyntaxError",
     "evalue": "invalid syntax (<ipython-input-19-39f52e4ba675>, line 1)",
     "output_type": "error",
     "traceback": [
      "\u001b[0;36m  File \u001b[0;32m\"<ipython-input-19-39f52e4ba675>\"\u001b[0;36m, line \u001b[0;32m1\u001b[0m\n\u001b[0;31m    find . -type file -name \"*.txt\"\u001b[0m\n\u001b[0m           ^\u001b[0m\n\u001b[0;31mSyntaxError\u001b[0m\u001b[0;31m:\u001b[0m invalid syntax\n"
     ]
    }
   ],
   "source": [
    "find . -type file -name \"*.txt\" "
   ]
  },
  {
   "cell_type": "markdown",
   "metadata": {},
   "source": [
    "#### 15. Cuenta el número de líneas que tiene el archivo sed.txt dentro de la carpeta lorem."
   ]
  },
  {
   "cell_type": "code",
   "execution_count": 25,
   "metadata": {},
   "outputs": [
    {
     "name": "stdout",
     "output_type": "stream",
     "text": [
      "cat: sed.txt: No such file or directory\r\n",
      "       0\r\n"
     ]
    }
   ],
   "source": [
    "cat sed.txt | wc -l"
   ]
  },
  {
   "cell_type": "markdown",
   "metadata": {},
   "source": [
    "#### 16. Cuenta el número de archivos que empiezan por lorem que están en este directorio y en directorios internos."
   ]
  },
  {
   "cell_type": "code",
   "execution_count": null,
   "metadata": {},
   "outputs": [],
   "source": [
    "find . -iname \"lorem*\" | wc -l"
   ]
  },
  {
   "cell_type": "markdown",
   "metadata": {},
   "source": [
    "#### 17. Encuentra todas las apariciones de et en at.txt dentro de la carpeta lorem."
   ]
  },
  {
   "cell_type": "code",
   "execution_count": 27,
   "metadata": {},
   "outputs": [
    {
     "ename": "SyntaxError",
     "evalue": "invalid syntax (<ipython-input-27-37cc745b5b87>, line 1)",
     "output_type": "error",
     "traceback": [
      "\u001b[0;36m  File \u001b[0;32m\"<ipython-input-27-37cc745b5b87>\"\u001b[0;36m, line \u001b[0;32m1\u001b[0m\n\u001b[0;31m    grep -et at.txt | wc\u001b[0m\n\u001b[0m             ^\u001b[0m\n\u001b[0;31mSyntaxError\u001b[0m\u001b[0;31m:\u001b[0m invalid syntax\n"
     ]
    }
   ],
   "source": [
    "grep -et at.txt | wc"
   ]
  },
  {
   "cell_type": "markdown",
   "metadata": {},
   "source": [
    "#### 18. Cuenta el número de apariciones del string et en at.txt dentro de la carpeta lorem.\n"
   ]
  },
  {
   "cell_type": "code",
   "execution_count": null,
   "metadata": {},
   "outputs": [],
   "source": [
    "grep et at.txt | wc"
   ]
  },
  {
   "cell_type": "markdown",
   "metadata": {},
   "source": [
    "#### 19. Cuenta el número de apariciones del string et en todos los archivos del directorio lorem-copy."
   ]
  },
  {
   "cell_type": "code",
   "execution_count": null,
   "metadata": {},
   "outputs": [],
   "source": [
    "grep et at.txt sed.txt lorem.txt | wc "
   ]
  },
  {
   "cell_type": "markdown",
   "metadata": {},
   "source": [
    "# BONUS"
   ]
  },
  {
   "cell_type": "markdown",
   "metadata": {},
   "source": [
    "#### 1. Almacena en una variable name tu nombre.\n",
    "\n"
   ]
  },
  {
   "cell_type": "code",
   "execution_count": 1,
   "metadata": {},
   "outputs": [],
   "source": [
    "myname = 'Angela'"
   ]
  },
  {
   "cell_type": "markdown",
   "metadata": {},
   "source": [
    "#### 2.  Imprime esa variable."
   ]
  },
  {
   "cell_type": "code",
   "execution_count": 2,
   "metadata": {},
   "outputs": [
    {
     "ename": "SyntaxError",
     "evalue": "invalid syntax (<ipython-input-2-4d80974d09a9>, line 1)",
     "output_type": "error",
     "traceback": [
      "\u001b[0;36m  File \u001b[0;32m\"<ipython-input-2-4d80974d09a9>\"\u001b[0;36m, line \u001b[0;32m1\u001b[0m\n\u001b[0;31m    echo myname = 'Angela'\u001b[0m\n\u001b[0m         ^\u001b[0m\n\u001b[0;31mSyntaxError\u001b[0m\u001b[0;31m:\u001b[0m invalid syntax\n"
     ]
    }
   ],
   "source": [
    "echo myname = 'Angela'"
   ]
  },
  {
   "cell_type": "markdown",
   "metadata": {},
   "source": [
    "#### 3.  Crea un directorio nuevo que se llame como el contenido de la variable name."
   ]
  },
  {
   "cell_type": "code",
   "execution_count": 5,
   "metadata": {},
   "outputs": [],
   "source": [
    "mkdir \"Angela\" "
   ]
  },
  {
   "cell_type": "markdown",
   "metadata": {},
   "source": [
    "#### 4.  Elimina ese directorio"
   ]
  },
  {
   "cell_type": "code",
   "execution_count": 4,
   "metadata": {},
   "outputs": [
    {
     "name": "stdout",
     "output_type": "stream",
     "text": [
      "rm: Angela: No such file or directory\r\n"
     ]
    }
   ],
   "source": [
    "rm -r \"Angela\""
   ]
  },
  {
   "cell_type": "markdown",
   "metadata": {},
   "source": [
    "#### 5. Muestra los procesos de forma jerárquica que se están ejecutando en tu ordenador:\n",
    "\n",
    "#### - Usando el comando top o htop\n",
    "#### - Usando el comando ps con argumentos"
   ]
  },
  {
   "cell_type": "code",
   "execution_count": 6,
   "metadata": {},
   "outputs": [
    {
     "ename": "NameError",
     "evalue": "name 'top' is not defined",
     "output_type": "error",
     "traceback": [
      "\u001b[0;31m---------------------------------------------------------------------------\u001b[0m",
      "\u001b[0;31mNameError\u001b[0m                                 Traceback (most recent call last)",
      "\u001b[0;32m<ipython-input-6-4dca56d05a21>\u001b[0m in \u001b[0;36m<module>\u001b[0;34m\u001b[0m\n\u001b[0;32m----> 1\u001b[0;31m \u001b[0mtop\u001b[0m\u001b[0;34m\u001b[0m\u001b[0;34m\u001b[0m\u001b[0m\n\u001b[0m",
      "\u001b[0;31mNameError\u001b[0m: name 'top' is not defined"
     ]
    }
   ],
   "source": [
    "Processes: 455 total, 2 running, 453 sleeping, 1844 threads                                        22:35:36\n",
    "Load Avg: 1.67, 1.77, 1.84  CPU usage: 5.18% user, 1.92% sys, 92.89% idle\n",
    "SharedLibs: 463M resident, 75M data, 39M linkedit.\n",
    "MemRegions: 113901 total, 2778M resident, 171M private, 2049M shared.\n",
    "PhysMem: 14G used (2646M wired), 2479M unused.\n",
    "VM: 2233G vsize, 2308M framework vsize, 9408767(0) swapins, 16770563(0) swapouts.\n",
    "Networks: packets: 14048265/13G in, 10164008/2646M out. Disks: 2786164/73G read, 3804485/100G written.\n",
    "\n",
    "PID    COMMAND      %CPU TIME     #TH   #WQ  #PORT MEM    PURG   CMPRS  PGRP  PPID  STATE\n",
    "27242  Terminal     31.9 02:12.04 10    4    433-  105M+  18M    0B     27242 1     sleeping\n",
    "124    WindowServer 7.9  03:55:46 16    5    1574- 470M-  17M    45M    124   1     sleeping\n",
    "0      kernel_task  3.7  02:14:32 232/8 0    0     372M-  0B     0B     0     0     running\n",
    "30690  top          3.6  00:06.96 1/1   0    26    5660K  0B     0B     30690 30414 running\n",
    "116    bluetoothd   1.8  07:47.77 4     2    1075+ 3964K+ 0B     644K   116   1     sleeping\n",
    "27441  zoom.us      1.4  40:04.44 18    1    2028  147M-  0B     0B     27441 1     sleeping\n",
    "442    gamecontroll 0.9  12:35.66 4     3    77    2072K  0B     336K   442   1     sleeping\n",
    "410    sharingd     0.5  03:47.55 5     1    331   18M    704K   7964K  410   1     sleeping\n",
    "292    TouchBarServ 0.5  13:24.25 7     3    340   30M-   3712K  7864K  292   1     sleeping\n",
    "119    corebrightne 0.4  02:19.75 7     6    141   1908K  0B     428K   119   1     sleeping\n",
    "489    Google Chrom 0.4  89:56.76 11    1    829   496M-  45M    90M    343   343   sleeping\n",
    "389    ControlCente 0.3  02:39.54 5     2    430   36M    0B     12M    389   1     sleeping\n",
    "333    UserEventAge 0.3  01:27.16 3     2    992   4160K  0B     992K   333   1     sleeping\n",
    "409    useractivity 0.3  01:15.10 2     1    119-  2500K- 0B     424K   409   1     sleeping\n",
    "540    cloudpaird   0.2  01:01.82 3     1    212   3932K  0B     1196K  540   1     sleeping\n",
    "165    runningboard 0.2  00:47.74 6     5    298-  3196K- 0B     308K   165   1     sleeping\n",
    "8425   Slack Helper 0.1  14:47.35 17    1    210   151M   0B     15M    8419  8419  sleeping\n",
    "343    Google Chrom 0.1  94:59.15 31    5    3464- 219M-  152K   59M    343   1     sleeping\n",
    "665    mysqld       0.1  03:11.42 38    0    61    315M   0B     314M   533   533   sleeping\n",
    "70     remoted      0.1  00:19.43 4     3    151+  1356K+ 0B     288K   70    1     sleeping\n",
    "490    Google Chrom 0.1  14:11.60 9     1    111   50M    0B     14M    343   343   sleeping\n",
    "95     launchservic 0.0  00:52.76 3     2    701-  3464K- 0B     456K   95    1     sleeping\n",
    "72     logd         0.0  01:52.51 4     3    1386+ 7688K+ 0B     3684K  72    1     sleeping\n",
    "501    Google Chrom 0.0  02:38.58 15    1    129   37M    0B     11M    343   343   sleeping\n",
    "729    WorkflowAppC 0.0  01:33.36 9     1    141-  11M-   0B     8048K  729   1     sleeping\n",
    "67     powerd       0.0  01:29.27 3     2    138   2232K  0B     244K   67    1     sleeping\n",
    "532    Siri         0.0  00:51.68 4     2    183   6772K  0B     2392K  532   1     sleeping\n",
    "8424   Slack Helper 0.0  00:34.87 7     1    103   30M    0B     9108K  8419  8419  sleeping\n",
    "28528  Google Chrom 0.0  00:29.16 15    1    146   71M    0B     0B     343   343   sleeping\n",
    "344    nsurlsession 0.0  04:11.87 7     4    134+  3924K+ 0B     672K   344   1     sleeping\n",
    "30675  Google Chrom 0.0  00:04.42 15    1    162   87M    4096B  0B     343   343   sleeping\n",
    "78     watchdogd    0.0  00:05.94 3     1    50    892K   0B     252K   78    1     sleeping\n",
    "264    com.apple.Ap 0.0  00:31.78 2     1    75    936K   0B     428K   264   1     sleeping\n",
    "391    Finder       0.0  03:25.76 5     2    723   98M    456K   32M    391   1     sleeping\n",
    "9825   storagekitd  0.0  00:31.34 7     3    79    3132K  0B     1084K  9825  1     sleeping\n",
    "394    Spotlight    0.0  00:18.52 5     2    646   61M    512K   13M    394   1     sleeping\n",
    "30443  Google Chrom 0.0  00:38.14 21    1    179   87M    4096B  0B     343   343   sleeping\n",
    "30110  com.apple.Ap 0.0  00:00.80 3     2    76+   924K+  0B     0B     30110 1     sleeping\n"
   ]
  },
  {
   "cell_type": "code",
   "execution_count": 8,
   "metadata": {},
   "outputs": [
    {
     "ename": "IndentationError",
     "evalue": "unexpected indent (<ipython-input-8-6dab17fe2b6c>, line 3)",
     "output_type": "error",
     "traceback": [
      "\u001b[0;36m  File \u001b[0;32m\"<ipython-input-8-6dab17fe2b6c>\"\u001b[0;36m, line \u001b[0;32m3\u001b[0m\n\u001b[0;31m    PID TTY           TIME CMD\u001b[0m\n\u001b[0m    ^\u001b[0m\n\u001b[0;31mIndentationError\u001b[0m\u001b[0;31m:\u001b[0m unexpected indent\n"
     ]
    }
   ],
   "source": [
    "#### - Usando el comando ps con argumentos\n",
    "\n",
    " PID TTY           TIME CMD\n",
    "30726 ttys000    0:00.08 -zsh\n",
    "30429 ttys001    0:00.07 -zsh\n",
    "30438 ttys001    0:02.26 /usr/local/Cellar/python@3.9/3.9.1_3/Frameworks/Python\n",
    "angela@MacBook-Pro-de-Angela lab-bash % "
   ]
  },
  {
   "cell_type": "markdown",
   "metadata": {},
   "source": [
    "#### 6. Muestra información sobre tu procesador por pantalla"
   ]
  },
  {
   "cell_type": "code",
   "execution_count": 9,
   "metadata": {},
   "outputs": [
    {
     "ename": "NameError",
     "evalue": "name 'uname' is not defined",
     "output_type": "error",
     "traceback": [
      "\u001b[0;31m---------------------------------------------------------------------------\u001b[0m",
      "\u001b[0;31mNameError\u001b[0m                                 Traceback (most recent call last)",
      "\u001b[0;32m<ipython-input-9-65d9b9fdf64d>\u001b[0m in \u001b[0;36m<module>\u001b[0;34m\u001b[0m\n\u001b[0;32m----> 1\u001b[0;31m \u001b[0muname\u001b[0m \u001b[0;34m-\u001b[0m\u001b[0mm\u001b[0m\u001b[0;34m\u001b[0m\u001b[0;34m\u001b[0m\u001b[0m\n\u001b[0m",
      "\u001b[0;31mNameError\u001b[0m: name 'uname' is not defined"
     ]
    }
   ],
   "source": [
    "uname -m"
   ]
  },
  {
   "cell_type": "markdown",
   "metadata": {},
   "source": [
    "#### 7. Crea 3 alias y haz que estén disponibles cada vez que inicias sesión"
   ]
  },
  {
   "cell_type": "code",
   "execution_count": null,
   "metadata": {},
   "outputs": [],
   "source": [
    "alias jn=\"jupyter notebook\"\n",
    "alias gs=\"git status\"\n",
    "alias "
   ]
  },
  {
   "cell_type": "markdown",
   "metadata": {},
   "source": [
    "#### 8. Comprime las carpetas lorem y lorem-copy en un archivo llamado lorem-compressed.tar.gz"
   ]
  },
  {
   "cell_type": "code",
   "execution_count": null,
   "metadata": {},
   "outputs": [],
   "source": []
  },
  {
   "cell_type": "markdown",
   "metadata": {},
   "source": [
    "#### 9. Descomprime el archivo lorem-compressed.tar.gz en la carpeta lorem-uncompressed"
   ]
  },
  {
   "cell_type": "code",
   "execution_count": null,
   "metadata": {},
   "outputs": [],
   "source": []
  },
  {
   "cell_type": "markdown",
   "metadata": {},
   "source": [
    "#### 10. Crea un script bash para imprimir los numeros de 1 a 100."
   ]
  },
  {
   "cell_type": "code",
   "execution_count": null,
   "metadata": {},
   "outputs": [],
   "source": []
  }
 ],
 "metadata": {
  "kernelspec": {
   "display_name": "Python 3",
   "language": "python",
   "name": "python3"
  },
  "language_info": {
   "codemirror_mode": {
    "name": "ipython",
    "version": 3
   },
   "file_extension": ".py",
   "mimetype": "text/x-python",
   "name": "python",
   "nbconvert_exporter": "python",
   "pygments_lexer": "ipython3",
   "version": "3.9.1"
  }
 },
 "nbformat": 4,
 "nbformat_minor": 4
}
