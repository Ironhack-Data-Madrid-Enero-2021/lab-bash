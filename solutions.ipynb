{
 "cells": [
  {
   "cell_type": "markdown",
   "metadata": {},
   "source": [
    "#### Imprime en consola Hello World."
   ]
  },
  {
   "cell_type": "markdown",
   "metadata": {},
   "source": [
    "Your solution here: echo \"Hello World\"\n"
   ]
  },
  {
   "cell_type": "markdown",
   "metadata": {},
   "source": [
    "#### Crea un directorio nuevo llamado new_dir."
   ]
  },
  {
   "cell_type": "markdown",
   "metadata": {},
   "source": [
    "Your solution here: mkdir new_dir\n"
   ]
  },
  {
   "cell_type": "markdown",
   "metadata": {},
   "source": [
    "#### Elimina ese directorio."
   ]
  },
  {
   "cell_type": "markdown",
   "metadata": {},
   "source": [
    "Your solution here: rm -r new_dir\n"
   ]
  },
  {
   "cell_type": "code",
   "execution_count": null,
   "metadata": {},
   "outputs": [],
   "source": [
    "* Copia el archivo `sed.txt` dentro de la carpeta lorem a la carpeta lorem-copy. TIP: Puede ser necesario crear la carpeta lorem-copy primero. "
   ]
  },
  {
   "cell_type": "code",
   "execution_count": null,
   "metadata": {},
   "outputs": [],
   "source": [
    "#creo carpeta mkdir lorem-copy\n",
    "\n",
    "cp sed.txt /Users/florengutierrez/desktop/repos/lab-bash/lorem-copy\n",
    "\n"
   ]
  },
  {
   "cell_type": "code",
   "execution_count": null,
   "metadata": {},
   "outputs": [],
   "source": [
    "* Copia los otros dos archivos de la carpeta lorem a la carpeta lorem-copy en una sola línea."
   ]
  },
  {
   "cell_type": "code",
   "execution_count": null,
   "metadata": {},
   "outputs": [],
   "source": [
    "florengutierrez@MacBook-Pro-de-Florencio lorem % cp at.txt lorem.txt /Users/florengutierrez/desktop/repos/lab-bash/lorem-copy"
   ]
  },
  {
   "cell_type": "code",
   "execution_count": null,
   "metadata": {},
   "outputs": [],
   "source": [
    "* Muestra el contenido del archivo `sed.txt` dentro de la carpeta lorem."
   ]
  },
  {
   "cell_type": "code",
   "execution_count": null,
   "metadata": {},
   "outputs": [],
   "source": [
    "florengutierrez@MacBook-Pro-de-Florencio lorem % cat sed.txt"
   ]
  },
  {
   "cell_type": "code",
   "execution_count": null,
   "metadata": {},
   "outputs": [],
   "source": [
    "* Muestra el contenido de los archivos `at.txt` y `lorem.txt` dentro de la carpeta lorem. "
   ]
  },
  {
   "cell_type": "code",
   "execution_count": null,
   "metadata": {},
   "outputs": [],
   "source": [
    "cat at.txt lorem.txt"
   ]
  },
  {
   "cell_type": "code",
   "execution_count": null,
   "metadata": {},
   "outputs": [],
   "source": [
    "* Visualiza las primeras 3 líneas del archivo `sed.txt` dentro de la carpeta lorem-copy"
   ]
  },
  {
   "cell_type": "code",
   "execution_count": null,
   "metadata": {},
   "outputs": [],
   "source": [
    "lorem-copy % head -n3 sed.txt"
   ]
  },
  {
   "cell_type": "code",
   "execution_count": null,
   "metadata": {},
   "outputs": [],
   "source": [
    "* Visualiza las ultimas 3 líneas del archivo `sed.txt` dentro de la carpeta lorem-copy "
   ]
  },
  {
   "cell_type": "code",
   "execution_count": null,
   "metadata": {},
   "outputs": [],
   "source": [
    "lorem-copy % tail -n3 sed.txt"
   ]
  },
  {
   "cell_type": "code",
   "execution_count": null,
   "metadata": {},
   "outputs": [],
   "source": [
    "* Añade `Homo homini lupus.` al final de archivo `sed.txt` dentro de la carpeta lorem-copy. "
   ]
  },
  {
   "cell_type": "code",
   "execution_count": null,
   "metadata": {},
   "outputs": [],
   "source": [
    "florengutierrez@MacBook-Pro-de-Florencio lorem % nano sed.txt lo #copy-paste Homo homini lupus\n",
    "#cat sed.txt y corroboro que está escrito"
   ]
  },
  {
   "cell_type": "code",
   "execution_count": null,
   "metadata": {},
   "outputs": [],
   "source": [
    "* Visualiza las últimas 3 líneas del archivo `sed.txt` dentro de la carpeta lorem-copy. Deberías ver ahora `Homo homini lupus.`."
   ]
  },
  {
   "cell_type": "code",
   "execution_count": null,
   "metadata": {},
   "outputs": [],
   "source": [
    "#NO ME APARECE WHYYYYYY?????"
   ]
  },
  {
   "cell_type": "code",
   "execution_count": null,
   "metadata": {},
   "outputs": [],
   "source": [
    "* Sustituye todas las apariciones de `et` por `ET` del archivo `at.txt` dentro de la carpeta lorem-copy. Deberás usar `sed`. "
   ]
  },
  {
   "cell_type": "code",
   "execution_count": null,
   "metadata": {},
   "outputs": [],
   "source": [
    "###"
   ]
  },
  {
   "cell_type": "code",
   "execution_count": null,
   "metadata": {},
   "outputs": [],
   "source": [
    "* Encuentra al usuario activo en el sistema."
   ]
  },
  {
   "cell_type": "code",
   "execution_count": null,
   "metadata": {},
   "outputs": [],
   "source": [
    "whoami. #Este vale??"
   ]
  },
  {
   "cell_type": "code",
   "execution_count": null,
   "metadata": {},
   "outputs": [],
   "source": [
    "* Encuentra dónde estás en tu sistema de ficheros."
   ]
  },
  {
   "cell_type": "code",
   "execution_count": null,
   "metadata": {},
   "outputs": [],
   "source": [
    "pwd"
   ]
  },
  {
   "cell_type": "code",
   "execution_count": null,
   "metadata": {},
   "outputs": [],
   "source": [
    "* Lista los archivos que terminan por `.txt` en la carpeta lorem."
   ]
  },
  {
   "cell_type": "code",
   "execution_count": null,
   "metadata": {},
   "outputs": [],
   "source": [
    "find /Users/florengutierrez/desktop/repos/lab-bash/lorem .txt"
   ]
  },
  {
   "cell_type": "code",
   "execution_count": null,
   "metadata": {},
   "outputs": [],
   "source": [
    "* Cuenta el número de líneas que tiene el archivo `sed.txt` dentro de la carpeta lorem. "
   ]
  },
  {
   "cell_type": "code",
   "execution_count": null,
   "metadata": {},
   "outputs": [],
   "source": [
    "wc sed.txt    10     132     897 sed.txt"
   ]
  },
  {
   "cell_type": "code",
   "execution_count": null,
   "metadata": {},
   "outputs": [],
   "source": [
    "* Cuenta el número de **archivos** que empiezan por `lorem` que están en este directorio y en directorios internos."
   ]
  },
  {
   "cell_type": "code",
   "execution_count": null,
   "metadata": {},
   "outputs": [],
   "source": [
    "wc loren *\n",
    "wc: loren: open: No such file or directory\n",
    "     112     562    3501 README.md"
   ]
  },
  {
   "cell_type": "code",
   "execution_count": null,
   "metadata": {},
   "outputs": [],
   "source": []
  },
  {
   "cell_type": "markdown",
   "metadata": {},
   "source": [
    "\n",
    "\n",
    "* Encuentra todas las apariciones de `et` en `at.txt` dentro de la carpeta lorem.\n",
    "\n",
    "grep et at.txt\n",
    "\n",
    "* Cuenta el número de apariciones del string `et` en `at.txt` dentro de la carpeta lorem. \n",
    "\n",
    "grep et at.txt | wc\n",
    "\n",
    "      7      86     605\n",
    "    \n",
    "*  Cuenta el número de apariciones del string `et` en todos los archivos del directorio lorem-copy. \n",
    "\n",
    "grep et at.txt lorem.txt sed.txt | wc\n",
    "      11     153    1131\n",
    "##TIENE QUE HABER OTRA SOLUCION YA QUE CON CP Y PEGAR LOS ARCHIVOS NO VALE :(\n",
    "\n",
    "\n",
    "\n",
    "\n",
    "\n",
    "## Ficheros bash\n",
    "\n",
    "Cualquier comando o comandos de bash se pueden almacenar en un fichero y ejecutar cuando queramos. \n",
    "Obviamente puedes utilizar tu editor preferido. Creamos el fichero: \n",
    "```\n",
    "$ touch list_files.sh\n",
    "```\n",
    "\n",
    "E incluimos el contenido que queramos. En este caso listar ficheros:\n",
    "```bash\n",
    "#!/bin/bash\n",
    "ls\n",
    "```\n",
    "\n",
    "Ejecutamos el script:\n",
    "```\n",
    "$ bash list_files.sh\n",
    "```\n",
    "\n",
    "Y veremos por consola el siguiente output. \n",
    "```console\n",
    "README.md lorem solutions.ipynb\n",
    "```\n",
    "\n",
    "## Bonus\n",
    "\n",
    "* Almacena en una variable `name` tu nombre.\n",
    "name = \"Floren\"\n",
    "\n",
    "* Imprime esa variable.\n",
    "print (name)\n",
    "\n",
    "* Crea un directorio nuevo que se llame como el contenido de la variable `name`.\n",
    "\n",
    "* Elimina ese directorio. \n",
    "\n",
    "* Muestra los procesos de forma jerárquica que se están ejecutando en tu ordenador:\n",
    "    1. Usando el comando top o htop\n",
    "    2. Usando el comando ps con argumentos\n",
    "\n",
    "* Muestra información sobre tu procesador por pantalla\n",
    "\n",
    "* Crea 3 alias y haz que estén disponibles cada vez que inicias sesión\n",
    "\n",
    "* Comprime las carpetas lorem y lorem-copy en un archivo llamado lorem-compressed.tar.gz\n",
    "\n",
    "* Descomprime el archivo lorem-compressed.tar.gz en la carpeta lorem-uncompressed\n",
    "\n",
    "* Crea un script bash para imprimir los numeros de 1 a 100.  ....\n",
    "\n",
    "\n",
    "\n",
    "\n",
    "\n",
    "\n",
    "\n",
    "\n",
    "\n",
    "\n",
    "\n",
    "\n",
    "\n",
    "\n",
    "\n",
    "\n",
    "\n",
    "\n",
    "\n"
   ]
  }
 ],
 "metadata": {
  "kernelspec": {
   "display_name": "Python 3",
   "language": "python",
   "name": "python3"
  },
  "language_info": {
   "codemirror_mode": {
    "name": "ipython",
    "version": 3
   },
   "file_extension": ".py",
   "mimetype": "text/x-python",
   "name": "python",
   "nbconvert_exporter": "python",
   "pygments_lexer": "ipython3",
   "version": "3.9.1"
  }
 },
 "nbformat": 4,
 "nbformat_minor": 4
}
